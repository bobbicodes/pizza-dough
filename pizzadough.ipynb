{
 "cells": [
  {
   "cell_type": "markdown",
   "metadata": {},
   "source": [
    "# Pizza dough calculator\n",
    "\n",
    "![Pizza dough](https://assets.epicurious.com/photos/54b412812413537c0d45af06/6:4/w_620%2Ch_413/394696_pizza-dough_1x1.jpg)\n",
    "\n",
    "## Cooking units\n",
    "\n",
    "[Cooking Units Conversion Tools For Culinary Arts](https://www.traditionaloven.com/culinary-arts/cooking/multimenu.html)\n",
    "\n",
    "* **[Flour: ](https://www.traditionaloven.com/conversions_of_measures/flour_volume_weight.html) 1 cup bread flour = 127 grams**\n",
    "* **[Salt: ](https://www.traditionaloven.com/culinary-arts/cooking/table-salt/convert-tea-spoon-tsp-to-gram-g.html) 1 tsp table salt = 5.6875 grams**\n",
    "* **[Sugar: ](https://www.traditionaloven.com/culinary-arts/sugars/granulated-sugar/convert-tea-spoon-tsp-granulated-sugar-to-gram-g-granulated-white-sugar.html) 1 tsp granulated white sugar = 4.1666 grams**\n",
    "* **[Yeast: ](https://www.traditionaloven.com/culinary-arts/baking/dry-yeast/convert-tea-spoon-tsp-to-gram-g-of-dry-yeast.html) 1 tsp active dry yeast = 2.834952313 grams**"
   ]
  },
  {
   "cell_type": "code",
   "execution_count": null,
   "metadata": {},
   "outputs": [],
   "source": []
  }
 ],
 "metadata": {
  "kernelspec": {
   "display_name": "Python 3",
   "language": "python",
   "name": "python3"
  },
  "language_info": {
   "codemirror_mode": {
    "name": "ipython",
    "version": 3
   },
   "file_extension": ".py",
   "mimetype": "text/x-python",
   "name": "python",
   "nbconvert_exporter": "python",
   "pygments_lexer": "ipython3",
   "version": "3.7.1"
  }
 },
 "nbformat": 4,
 "nbformat_minor": 2
}
